{
 "cells": [
  {
   "cell_type": "code",
   "execution_count": 2,
   "metadata": {},
   "outputs": [
    {
     "name": "stdout",
     "output_type": "stream",
     "text": [
      "66,66,666\n"
     ]
    }
   ],
   "source": [
    "def convert_to_indian_currency(number):\n",
    "    \n",
    "    num_str = str(number)\n",
    "\n",
    "    length = len(num_str)\n",
    "\n",
    "    if length <= 3:\n",
    "        return num_str\n",
    "\n",
    "    \n",
    "    last_three_digits = num_str[-3:]\n",
    "    rest_of_digits = num_str[:-3]\n",
    "\n",
    "    \n",
    "    rest_of_digits = ','.join([rest_of_digits[max(i-2, 0):i] for i in range(len(rest_of_digits), 0, -2)][::-1])\n",
    "\n",
    "    return rest_of_digits + ',' + last_three_digits\n",
    "\n",
    "\n",
    "input_number = int(input(\"Enter the number:\"))\n",
    "output = convert_to_indian_currency(input_number)\n",
    "print(output)\n"
   ]
  }
 ],
 "metadata": {
  "kernelspec": {
   "display_name": "crop",
   "language": "python",
   "name": "crop"
  },
  "language_info": {
   "codemirror_mode": {
    "name": "ipython",
    "version": 3
   },
   "file_extension": ".py",
   "mimetype": "text/x-python",
   "name": "python",
   "nbconvert_exporter": "python",
   "pygments_lexer": "ipython3",
   "version": "3.11.3"
  }
 },
 "nbformat": 4,
 "nbformat_minor": 2
}
