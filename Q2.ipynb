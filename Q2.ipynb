{
 "cells": [
  {
   "cell_type": "code",
   "execution_count": 1,
   "metadata": {},
   "outputs": [
    {
     "name": "stdout",
     "output_type": "stream",
     "text": [
      "2\n",
      "1\n",
      "0\n"
     ]
    }
   ],
   "source": [
    "def count_people(min_height, arr_of_ppl):\n",
    "    count = 0\n",
    "    for i in arr_of_ppl:\n",
    "        if i > min_height:\n",
    "            count += 1\n",
    "    return count\n",
    "\n",
    "\n",
    "if __name__ == \"__main__\":\n",
    "    T = int(input())  # no of test cases\n",
    "    res = []\n",
    "    for i in range(T):\n",
    "        N, K = [int(i) for i in input().split()]\n",
    "        ppl = [int(i) for i in input().split()]\n",
    "        res.append(count_people(K, ppl))\n",
    "\n",
    "    for i in res:\n",
    "        print(i)\n"
   ]
  }
 ],
 "metadata": {
  "kernelspec": {
   "display_name": "crop",
   "language": "python",
   "name": "crop"
  },
  "language_info": {
   "codemirror_mode": {
    "name": "ipython",
    "version": 3
   },
   "file_extension": ".py",
   "mimetype": "text/x-python",
   "name": "python",
   "nbconvert_exporter": "python",
   "pygments_lexer": "ipython3",
   "version": "3.11.3"
  }
 },
 "nbformat": 4,
 "nbformat_minor": 2
}
